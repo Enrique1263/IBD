{
 "cells": [
  {
   "cell_type": "code",
   "execution_count": 1,
   "id": "c30f7f62-4714-4aaf-b82f-d66c7adb82dc",
   "metadata": {},
   "outputs": [],
   "source": [
    "from pymongo import MongoClient\n"
   ]
  },
  {
   "cell_type": "code",
   "execution_count": 2,
   "id": "e30b5cdb-fa8b-4eb3-b09b-5876b2535cd5",
   "metadata": {},
   "outputs": [
    {
     "data": {
      "text/plain": [
       "['admin', 'config', 'local', 'newsDB']"
      ]
     },
     "execution_count": 2,
     "metadata": {},
     "output_type": "execute_result"
    }
   ],
   "source": [
    "connection_string = 'mongodb://mongo1:27017,mongo2:27018,mongo3:27019/?replicaSet=rs0'\n",
    "\n",
    "# Connecting to MongoDB\n",
    "client = MongoClient(connection_string)\n",
    "\n",
    "client.list_database_names()"
   ]
  },
  {
   "cell_type": "code",
   "execution_count": 3,
   "id": "6bb6ca4d-3bca-496a-8abc-f164dd861024",
   "metadata": {},
   "outputs": [],
   "source": [
    "db = client['newsDB']"
   ]
  },
  {
   "cell_type": "code",
   "execution_count": 4,
   "id": "f63fbb84-02f4-485c-9443-beac31b69bc5",
   "metadata": {},
   "outputs": [
    {
     "data": {
      "text/plain": [
       "[{'name': 'newsapi',\n",
       "  'type': 'collection',\n",
       "  'options': {},\n",
       "  'info': {'readOnly': False,\n",
       "   'uuid': Binary(b'\\x04\\xcbk\\xe8\\x10\\x16J\\xfb\\x9d\\x80\\xd1\\xc5\\xc0\\xc8\\xcb\\xc9', 4)},\n",
       "  'idIndex': {'v': 2, 'key': {'_id': 1}, 'name': '_id_'}},\n",
       " {'name': 'gnews',\n",
       "  'type': 'collection',\n",
       "  'options': {},\n",
       "  'info': {'readOnly': False,\n",
       "   'uuid': Binary(b'\\x07\\xd5\\x9c\\xdc\\x1c\\xa5C-\\x99\\xd0\\x92\\x9ct%\\xba]', 4)},\n",
       "  'idIndex': {'v': 2, 'key': {'_id': 1}, 'name': '_id_'}},\n",
       " {'name': 'newsai',\n",
       "  'type': 'collection',\n",
       "  'options': {},\n",
       "  'info': {'readOnly': False,\n",
       "   'uuid': Binary(b'@\\xe3\\xc5%\\x16y@\\x06\\x91\\x7f\\xad\\x1f\\xcc\\xfc\\xb4c', 4)},\n",
       "  'idIndex': {'v': 2, 'key': {'_id': 1}, 'name': '_id_'}}]"
      ]
     },
     "execution_count": 4,
     "metadata": {},
     "output_type": "execute_result"
    }
   ],
   "source": [
    "list(db.list_collections())"
   ]
  },
  {
   "cell_type": "code",
   "execution_count": 5,
   "id": "06476ba9-e3d0-4885-a03e-57211510dffa",
   "metadata": {},
   "outputs": [],
   "source": [
    "col = db['newsapi']"
   ]
  },
  {
   "cell_type": "code",
   "execution_count": 6,
   "id": "20f1fad9-fa6c-41f1-9c46-08fc8f747be1",
   "metadata": {},
   "outputs": [
    {
     "data": {
      "text/plain": [
       "55318"
      ]
     },
     "execution_count": 6,
     "metadata": {},
     "output_type": "execute_result"
    }
   ],
   "source": [
    "len(list(col.find({})))"
   ]
  },
  {
   "cell_type": "code",
   "execution_count": 7,
   "id": "aee41bb3-7bfe-420f-8c0a-f8f35fe6ec81",
   "metadata": {},
   "outputs": [],
   "source": [
    "col2 = db['gnews']"
   ]
  },
  {
   "cell_type": "code",
   "execution_count": 8,
   "id": "acd33322-2b46-4518-9cca-a980846be2ef",
   "metadata": {},
   "outputs": [
    {
     "data": {
      "text/plain": [
       "2854"
      ]
     },
     "execution_count": 8,
     "metadata": {},
     "output_type": "execute_result"
    }
   ],
   "source": [
    "len(list(col2.find({})))"
   ]
  },
  {
   "cell_type": "code",
   "execution_count": 9,
   "id": "dd97bf58-f7d3-421b-b20f-c19e0bb4e5ca",
   "metadata": {},
   "outputs": [],
   "source": [
    "col3 = db['newsai']"
   ]
  },
  {
   "cell_type": "code",
   "execution_count": 10,
   "id": "308e378f-58d7-4f45-b99b-5a14f7ceb02d",
   "metadata": {},
   "outputs": [
    {
     "data": {
      "text/plain": [
       "951"
      ]
     },
     "execution_count": 10,
     "metadata": {},
     "output_type": "execute_result"
    }
   ],
   "source": [
    "len(list(col3.find({})))"
   ]
  },
  {
   "cell_type": "code",
   "execution_count": 11,
   "id": "4f06e86f-6980-42b4-b8a7-359e4545a526",
   "metadata": {},
   "outputs": [
    {
     "data": {
      "text/plain": [
       "32780"
      ]
     },
     "execution_count": 11,
     "metadata": {},
     "output_type": "execute_result"
    }
   ],
   "source": [
    "len(set(art['url'] for art in list(col.find({}))))"
   ]
  },
  {
   "cell_type": "code",
   "execution_count": null,
   "id": "b960a82c-f6db-4750-9ee7-cb936c33d15e",
   "metadata": {},
   "outputs": [],
   "source": []
  }
 ],
 "metadata": {
  "kernelspec": {
   "display_name": "Python 3 (ipykernel)",
   "language": "python",
   "name": "python3"
  },
  "language_info": {
   "codemirror_mode": {
    "name": "ipython",
    "version": 3
   },
   "file_extension": ".py",
   "mimetype": "text/x-python",
   "name": "python",
   "nbconvert_exporter": "python",
   "pygments_lexer": "ipython3",
   "version": "3.9.19"
  }
 },
 "nbformat": 4,
 "nbformat_minor": 5
}
