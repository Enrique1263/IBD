{
 "cells": [
  {
   "cell_type": "code",
   "execution_count": 1,
   "id": "c30f7f62-4714-4aaf-b82f-d66c7adb82dc",
   "metadata": {},
   "outputs": [],
   "source": [
    "from pymongo import MongoClient\n"
   ]
  },
  {
   "cell_type": "code",
   "execution_count": 2,
   "id": "e30b5cdb-fa8b-4eb3-b09b-5876b2535cd5",
   "metadata": {},
   "outputs": [
    {
     "data": {
      "text/plain": [
       "['admin', 'config', 'local', 'newsDB']"
      ]
     },
     "execution_count": 2,
     "metadata": {},
     "output_type": "execute_result"
    }
   ],
   "source": [
    "connection_string = 'mongodb://mongo1:27017,mongo2:27018,mongo3:27019/?replicaSet=rs0'\n",
    "\n",
    "# Connecting to MongoDB\n",
    "client = MongoClient(connection_string)\n",
    "\n",
    "client.list_database_names()"
   ]
  },
  {
   "cell_type": "code",
   "execution_count": 3,
   "id": "6bb6ca4d-3bca-496a-8abc-f164dd861024",
   "metadata": {},
   "outputs": [],
   "source": [
    "db = client['newsDB']"
   ]
  },
  {
   "cell_type": "code",
   "execution_count": 4,
   "id": "f63fbb84-02f4-485c-9443-beac31b69bc5",
   "metadata": {},
   "outputs": [
    {
     "data": {
      "text/plain": [
       "[{'name': 'newsai',\n",
       "  'type': 'collection',\n",
       "  'options': {},\n",
       "  'info': {'readOnly': False,\n",
       "   'uuid': Binary(b'5h5\\xd4{\\xa1ET\\xb1\\xbb`\\x0c\\xb0\\x8f\\xbe\\xf6', 4)},\n",
       "  'idIndex': {'v': 2, 'key': {'_id': 1}, 'name': '_id_'}},\n",
       " {'name': 'newsapi',\n",
       "  'type': 'collection',\n",
       "  'options': {},\n",
       "  'info': {'readOnly': False,\n",
       "   'uuid': Binary(b'o\\xa4\\xf2\\xe4\\x978F\\x0f\\xaf++j\\x1b\\xab\\x19w', 4)},\n",
       "  'idIndex': {'v': 2, 'key': {'_id': 1}, 'name': '_id_'}},\n",
       " {'name': 'gnews',\n",
       "  'type': 'collection',\n",
       "  'options': {},\n",
       "  'info': {'readOnly': False,\n",
       "   'uuid': Binary(b'\\xa1S$\\xf9h\\xb5H\\xc6\\xad0\\xce+\\xa5\\xb0/\\xac', 4)},\n",
       "  'idIndex': {'v': 2, 'key': {'_id': 1}, 'name': '_id_'}}]"
      ]
     },
     "execution_count": 4,
     "metadata": {},
     "output_type": "execute_result"
    }
   ],
   "source": [
    "list(db.list_collections())"
   ]
  },
  {
   "cell_type": "code",
   "execution_count": null,
   "id": "06476ba9-e3d0-4885-a03e-57211510dffa",
   "metadata": {},
   "outputs": [],
   "source": []
  }
 ],
 "metadata": {
  "kernelspec": {
   "display_name": "Python 3 (ipykernel)",
   "language": "python",
   "name": "python3"
  },
  "language_info": {
   "codemirror_mode": {
    "name": "ipython",
    "version": 3
   },
   "file_extension": ".py",
   "mimetype": "text/x-python",
   "name": "python",
   "nbconvert_exporter": "python",
   "pygments_lexer": "ipython3",
   "version": "3.9.19"
  }
 },
 "nbformat": 4,
 "nbformat_minor": 5
}
