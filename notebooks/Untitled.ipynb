{
 "cells": [
  {
   "cell_type": "code",
   "execution_count": 1,
   "id": "c30f7f62-4714-4aaf-b82f-d66c7adb82dc",
   "metadata": {},
   "outputs": [],
   "source": [
    "from pymongo import MongoClient\n"
   ]
  },
  {
   "cell_type": "code",
   "execution_count": 2,
   "id": "e30b5cdb-fa8b-4eb3-b09b-5876b2535cd5",
   "metadata": {},
   "outputs": [
    {
     "data": {
      "text/plain": [
       "['admin', 'config', 'local', 'newsDB']"
      ]
     },
     "execution_count": 2,
     "metadata": {},
     "output_type": "execute_result"
    }
   ],
   "source": [
    "connection_string = 'mongodb://mongo1:27017,mongo2:27018,mongo3:27019/?replicaSet=rs0'\n",
    "\n",
    "# Connecting to MongoDB\n",
    "client = MongoClient(connection_string)\n",
    "\n",
    "client.list_database_names()"
   ]
  },
  {
   "cell_type": "code",
   "execution_count": 3,
   "id": "6bb6ca4d-3bca-496a-8abc-f164dd861024",
   "metadata": {},
   "outputs": [],
   "source": [
    "db = client['newsDB']"
   ]
  },
  {
   "cell_type": "code",
   "execution_count": 4,
   "id": "f63fbb84-02f4-485c-9443-beac31b69bc5",
   "metadata": {},
   "outputs": [
    {
     "data": {
      "text/plain": [
       "[{'name': 'gnews',\n",
       "  'type': 'collection',\n",
       "  'options': {},\n",
       "  'info': {'readOnly': False,\n",
       "   'uuid': Binary(b'oh\\x91;Y\\x9aB\\xaa\\x91}C?\\xe4\\x80\\x91x', 4)},\n",
       "  'idIndex': {'v': 2, 'key': {'_id': 1}, 'name': '_id_'}},\n",
       " {'name': 'newsapi',\n",
       "  'type': 'collection',\n",
       "  'options': {},\n",
       "  'info': {'readOnly': False,\n",
       "   'uuid': Binary(b'\\xabB\\x9dn\\xa4*@|\\x92@\\xcc\\xeaG:\\xcc\\xee', 4)},\n",
       "  'idIndex': {'v': 2, 'key': {'_id': 1}, 'name': '_id_'}},\n",
       " {'name': 'newsai',\n",
       "  'type': 'collection',\n",
       "  'options': {},\n",
       "  'info': {'readOnly': False,\n",
       "   'uuid': Binary(b'\\xd0\\xd1$\\xab\\x92&L8\\xbae\\t\\xb7\\xadR\\xba0', 4)},\n",
       "  'idIndex': {'v': 2, 'key': {'_id': 1}, 'name': '_id_'}}]"
      ]
     },
     "execution_count": 4,
     "metadata": {},
     "output_type": "execute_result"
    }
   ],
   "source": [
    "list(db.list_collections())"
   ]
  },
  {
   "cell_type": "code",
   "execution_count": 5,
   "id": "06476ba9-e3d0-4885-a03e-57211510dffa",
   "metadata": {},
   "outputs": [],
   "source": [
    "col = db['newsapi']"
   ]
  },
  {
   "cell_type": "code",
   "execution_count": 10,
   "id": "20f1fad9-fa6c-41f1-9c46-08fc8f747be1",
   "metadata": {},
   "outputs": [
    {
     "data": {
      "text/plain": [
       "9883"
      ]
     },
     "execution_count": 10,
     "metadata": {},
     "output_type": "execute_result"
    }
   ],
   "source": [
    "len(list(col.find({})))"
   ]
  },
  {
   "cell_type": "code",
   "execution_count": 11,
   "id": "aee41bb3-7bfe-420f-8c0a-f8f35fe6ec81",
   "metadata": {},
   "outputs": [],
   "source": [
    "col2 = db['gnews']"
   ]
  },
  {
   "cell_type": "code",
   "execution_count": 12,
   "id": "acd33322-2b46-4518-9cca-a980846be2ef",
   "metadata": {},
   "outputs": [
    {
     "data": {
      "text/plain": [
       "676"
      ]
     },
     "execution_count": 12,
     "metadata": {},
     "output_type": "execute_result"
    }
   ],
   "source": [
    "len(list(col2.find({})))"
   ]
  },
  {
   "cell_type": "code",
   "execution_count": 15,
   "id": "dd97bf58-f7d3-421b-b20f-c19e0bb4e5ca",
   "metadata": {},
   "outputs": [],
   "source": [
    "col3 = db['newsai']"
   ]
  },
  {
   "cell_type": "code",
   "execution_count": 16,
   "id": "308e378f-58d7-4f45-b99b-5a14f7ceb02d",
   "metadata": {},
   "outputs": [
    {
     "data": {
      "text/plain": [
       "192"
      ]
     },
     "execution_count": 16,
     "metadata": {},
     "output_type": "execute_result"
    }
   ],
   "source": [
    "len(list(col3.find({})))"
   ]
  },
  {
   "cell_type": "code",
   "execution_count": null,
   "id": "4f06e86f-6980-42b4-b8a7-359e4545a526",
   "metadata": {},
   "outputs": [],
   "source": []
  }
 ],
 "metadata": {
  "kernelspec": {
   "display_name": "Python 3 (ipykernel)",
   "language": "python",
   "name": "python3"
  },
  "language_info": {
   "codemirror_mode": {
    "name": "ipython",
    "version": 3
   },
   "file_extension": ".py",
   "mimetype": "text/x-python",
   "name": "python",
   "nbconvert_exporter": "python",
   "pygments_lexer": "ipython3",
   "version": "3.9.19"
  }
 },
 "nbformat": 4,
 "nbformat_minor": 5
}
