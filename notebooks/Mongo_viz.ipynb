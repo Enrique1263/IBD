{
 "cells": [
  {
   "cell_type": "code",
   "execution_count": 27,
   "id": "c30f7f62-4714-4aaf-b82f-d66c7adb82dc",
   "metadata": {},
   "outputs": [],
   "source": [
    "from pymongo import MongoClient\n"
   ]
  },
  {
   "cell_type": "code",
   "execution_count": 28,
   "id": "e30b5cdb-fa8b-4eb3-b09b-5876b2535cd5",
   "metadata": {},
   "outputs": [
    {
     "data": {
      "text/plain": [
       "['admin', 'config', 'local', 'newsDB']"
      ]
     },
     "execution_count": 28,
     "metadata": {},
     "output_type": "execute_result"
    }
   ],
   "source": [
    "connection_string = 'mongodb://mongo1:27017,mongo2:27018,mongo3:27019/?replicaSet=rs0'\n",
    "\n",
    "# Connecting to MongoDB\n",
    "client = MongoClient(connection_string)\n",
    "\n",
    "client.list_database_names()"
   ]
  },
  {
   "cell_type": "code",
   "execution_count": 29,
   "id": "6bb6ca4d-3bca-496a-8abc-f164dd861024",
   "metadata": {},
   "outputs": [],
   "source": [
    "db = client['newsDB']"
   ]
  },
  {
   "cell_type": "code",
   "execution_count": 30,
   "id": "f63fbb84-02f4-485c-9443-beac31b69bc5",
   "metadata": {},
   "outputs": [
    {
     "data": {
      "text/plain": [
       "[{'name': 'articles',\n",
       "  'type': 'collection',\n",
       "  'options': {},\n",
       "  'info': {'readOnly': False,\n",
       "   'uuid': Binary(b'\\xdf\\xdcA1\\xd7>M\\x82\\xb6\\x1fNI\\xa1s\\xf3n', 4)},\n",
       "  'idIndex': {'v': 2, 'key': {'_id': 1}, 'name': '_id_'}}]"
      ]
     },
     "execution_count": 30,
     "metadata": {},
     "output_type": "execute_result"
    }
   ],
   "source": [
    "list(db.list_collections())"
   ]
  },
  {
   "cell_type": "code",
   "execution_count": 31,
   "id": "06476ba9-e3d0-4885-a03e-57211510dffa",
   "metadata": {},
   "outputs": [],
   "source": [
    "col = db['articles']"
   ]
  },
  {
   "cell_type": "code",
   "execution_count": 32,
   "id": "acd33322-2b46-4518-9cca-a980846be2ef",
   "metadata": {},
   "outputs": [
    {
     "data": {
      "text/plain": [
       "630"
      ]
     },
     "execution_count": 32,
     "metadata": {},
     "output_type": "execute_result"
    }
   ],
   "source": [
    "len(list(col.find({})))"
   ]
  },
  {
   "cell_type": "code",
   "execution_count": 33,
   "id": "3257e0ba-f2cd-4a31-825c-fc56e45a2c2c",
   "metadata": {},
   "outputs": [
    {
     "data": {
      "text/plain": [
       "630"
      ]
     },
     "execution_count": 33,
     "metadata": {},
     "output_type": "execute_result"
    }
   ],
   "source": [
    "len(col.find({}).distinct('url'))"
   ]
  },
  {
   "cell_type": "code",
   "execution_count": 38,
   "id": "77a930c6-08ba-48ef-b29c-f2074d1dfae1",
   "metadata": {},
   "outputs": [
    {
     "data": {
      "text/plain": [
       "[{'_id': ObjectId('664dfe0aa219e4261f7cf63b'),\n",
       "  'api': 'newsapiai',\n",
       "  'title': 'OpenAI team devoted to future risks left leaderless',\n",
       "  'description': 'An OpenAI team devoted to mitigating the long-term dangers of super-smart computers was leaderless o...',\n",
       "  'content': 'An OpenAI team devoted to mitigating the long-term dangers of super-smart computers was leaderless on Friday after two high-profile figures left the company.\\n\\nOpenAI co-founder Ilya Sutskever and \"superalignment\" team co-leader Jan Leike announced their departures from the ChatGPT-maker this week, and US media reported that remaining members of the group have either left or been reassigned to other parts of the San Francisco-based company.\\n\\nThe apparent dismantling of an OpenAI team focused on keeping sophisticated artificial intelligence under control comes as such technology comes under increased scrutiny from regulators and fears mount regarding its dangers.\\n\\n\"OpenAI must become a safety-first AGI (artificial general intelligence) company,\" Leike wrote Friday in a post on X, formerly Twitter.\\n\\nLeike called on all OpenAI employees to \"act with the gravitas\" warranted by what they are building.\\n\\nOpenAI chief executive Sam Altman responded to Leike\\'s post with one of his own, thanking him for his work at the company and saying he was sad to see Leike leave.\\n\\n\"He\\'s right we have a lot more to do,\" Altman said. \"We are committed to doing it.\"\\n\\nAltman promised more on the topic in the coming days.\\n\\nSutskever said on X that he was leaving after almost a decade at OpenAI, whose \"trajectory has been nothing short of miraculous.\"\\n\\n\"I\\'m confident that OpenAI will build AGI that is both safe and beneficial,\" he added, referring to computer technology that seeks to perform as well as -- or better than -- human cognition.\\n\\nSutskever, OpenAI\\'s chief scientist, sat on the board that voted to remove fellow chief executive Altman in November last year.\\n\\nThe ousting threw the San Francisco-based startup into a tumult, with the OpenAI board hiring Altman back a few days later after staff and investors rebelled.\\n\\nOpenAI early this week released a higher-performing and even more human-like version of the artificial intelligence technology that underpins ChatGPT, making it free to all users.\\n\\n\"It feels like AI from the movies,\" Altman said in a blog post.\\n\\nAltman has previously pointed to the Scarlett Johansson character in the movie \"Her,\" where she voices an AI-based virtual assistant dating a man, as an inspiration for where he would like AI interactions to go.\\n\\nThe day will come when \"digital brains will become as good and even better than our own,\" Sutskever said during a talk at a TED AI summit in San Francisco late last year.\\n\\n\"AGI will have a dramatic impact on every area of life.\"\\n\\ngc/bjt\\n\\nMore from this section\\n\\nOptimal Blue Announces \\'Optimize Your Advantage\\' to Showcase How Its Capital Markets Platform Puts Lenders in Control of Their Margins Celebrating the Anniversary of \\'Dianetics: The Modern Science of Mental Health,\\' the All-Time Bestselling Book on the Human Mind Glancy Wine Education Foundation Adds New Board Members and Achieves Platinum Charity Rating',\n",
       "  'author': [{'uri': 'agence_france_presse@kulr8.com',\n",
       "    'name': 'Agence France-Presse',\n",
       "    'type': 'author',\n",
       "    'isAgency': False}],\n",
       "  'publishedAt': '2024-05-17T22:13:36Z',\n",
       "  'url': 'https://www.kulr8.com/news/national/openai-team-devoted-to-future-risks-left-leaderless/article_7f47e154-4efa-512c-9b4f-db1b3cd6fb89.html',\n",
       "  'source': 'KULR-8 Local News'},\n",
       " {'_id': ObjectId('664dfe0aa219e4261f7cf63c'),\n",
       "  'api': 'newsapiai',\n",
       "  'title': 'OpenAI team devoted to future risks left leaderless',\n",
       "  'description': 'An OpenAI team devoted to mitigating the long-term dangers of super-smart computers was leaderless o...',\n",
       "  'content': 'An OpenAI team devoted to mitigating the long-term dangers of super-smart computers was leaderless on Friday after two high-profile figures left the company.\\n\\nOpenAI co-founder Ilya Sutskever and \"superalignment\" team co-leader Jan Leike announced their departures from the ChatGPT-maker this week, and US media reported that remaining members of the group have either left or been reassigned to other parts of the San Francisco-based company.\\n\\nNewsletters',\n",
       "  'author': [{'uri': 'agence_france_presse@djournal.com',\n",
       "    'name': 'Agence France-Presse',\n",
       "    'type': 'author',\n",
       "    'isAgency': False}],\n",
       "  'publishedAt': '2024-05-17T22:13:36Z',\n",
       "  'url': 'https://www.djournal.com/news/national/openai-team-devoted-to-future-risks-left-leaderless/article_5fbfe9e8-c511-5b9f-bc5d-68c6ff9af64f.html',\n",
       "  'source': 'Daily Journal'},\n",
       " {'_id': ObjectId('664dfe0aa219e4261f7cf63d'),\n",
       "  'api': 'newsapiai',\n",
       "  'title': 'OpenAI team devoted to future risks left leaderless',\n",
       "  'description': 'An OpenAI team devoted to mitigating the long-term dangers of super-smart computers was leaderless o...',\n",
       "  'content': 'An OpenAI team devoted to mitigating the long-term dangers of super-smart computers was leaderless on Friday after two high-profile figures left the company.\\n\\nOpenAI co-founder Ilya Sutskever and \"superalignment\" team co-leader Jan Leike announced their departures from the ChatGPT-maker this week, and US media reported that remaining members of the group have either left or been reassigned to other parts of the San Francisco-based company.\\n\\nMore from this section\\n\\nState Senate majority leader urges action on affordable housing crisis EU cuts inflation forecast for 2024 despite uncertainty Labour\\'s education pledge is \\'ill thought through\\', says Gillian Keegan',\n",
       "  'author': [{'uri': 'agence_france_presse@mycouriertribune.com',\n",
       "    'name': 'Agence France-Presse',\n",
       "    'type': 'author',\n",
       "    'isAgency': False}],\n",
       "  'publishedAt': '2024-05-17T22:13:36Z',\n",
       "  'url': 'https://www.mycouriertribune.com/news/national_news/openai-team-devoted-to-future-risks-left-leaderless/article_65a3ee55-11d2-56cb-b847-d3d21a133603.html',\n",
       "  'source': 'Courier-Tribune'},\n",
       " {'_id': ObjectId('664dfe0aa219e4261f7cf640'),\n",
       "  'api': 'newsapiai',\n",
       "  'title': 'OpenAI team devoted to future risks left leaderless',\n",
       "  'description': 'An OpenAI team devoted to mitigating the long-term dangers of super-smart computers was leaderless o...',\n",
       "  'content': 'An OpenAI team devoted to mitigating the long-term dangers of super-smart computers was leaderless on Friday after two high-profile figures left the company.\\n\\nOpenAI co-founder Ilya Sutskever and \"superalignment\" team co-leader Jan Leike announced their departures from the ChatGPT-maker this week, and US media reported that remaining members of the group have either left or been reassigned to other parts of the San Francisco-based company.\\n\\nThe apparent dismantling of an OpenAI team focused on keeping sophisticated artificial intelligence under control comes as such technology comes under increased scrutiny from regulators and fears mount regarding its dangers.\\n\\n\"OpenAI must become a safety-first AGI (artificial general intelligence) company,\" Leike wrote Friday in a post on X, formerly Twitter.\\n\\nLeike called on all OpenAI employees to \"act with the gravitas\" warranted by what they are building.\\n\\nOpenAI chief executive Sam Altman responded to Leike\\'s post with one of his own, thanking him for his work at the company and saying he was sad to see Leike leave.\\n\\n\"He\\'s right we have a lot more to do,\" Altman said. \"We are committed to doing it.\"\\n\\nAltman promised more on the topic in the coming days.\\n\\nSutskever said on X that he was leaving after almost a decade at OpenAI, whose \"trajectory has been nothing short of miraculous.\"\\n\\nMore from this section Mayor says rainfall is welcome boost in fight against wildfires threatening Fort Nelson New pizza box recycling program comes to Central Park Astronomers Witness Merger of 2 Black Holes From the \\'Cosmic Dawn\\'\\n\\n\"I\\'m confident that OpenAI will build AGI that is both safe and beneficial,\" he added, referring to computer technology that seeks to perform as well as -- or better than -- human cognition.\\n\\nSutskever, OpenAI\\'s chief scientist, sat on the board that voted to remove fellow chief executive Altman in November last year.\\n\\nThe ousting threw the San Francisco-based startup into a tumult, with the OpenAI board hiring Altman back a few days later after staff and investors rebelled.\\n\\nOpenAI early this week released a higher-performing and even more human-like version of the artificial intelligence technology that underpins ChatGPT, making it free to all users.\\n\\n\"It feels like AI from the movies,\" Altman said in a blog post.\\n\\nAltman has previously pointed to the Scarlett Johansson character in the movie \"Her,\" where she voices an AI-based virtual assistant dating a man, as an inspiration for where he would like AI interactions to go.\\n\\nThe day will come when \"digital brains will become as good and even better than our own,\" Sutskever said during a talk at a TED AI summit in San Francisco late last year.\\n\\n\"AGI will have a dramatic impact on every area of life.\"\\n\\ngc/bjt',\n",
       "  'author': [{'uri': 'agence_france_presse@reformer.com',\n",
       "    'name': 'Agence France-Presse',\n",
       "    'type': 'author',\n",
       "    'isAgency': False}],\n",
       "  'publishedAt': '2024-05-17T23:25:16Z',\n",
       "  'url': 'https://www.reformer.com/news/national/openai-team-devoted-to-future-risks-left-leaderless/article_211c9074-f850-5c91-8e46-bb168fdca15c.html',\n",
       "  'source': 'Brattleboro Reformer'},\n",
       " {'_id': ObjectId('664dfe0aa219e4261f7cf641'),\n",
       "  'api': 'newsapiai',\n",
       "  'title': 'OpenAI team devoted to future risks left leaderless',\n",
       "  'description': 'OpenAI co-founder Ilya Sutskever and \"superalignment\" team co-leader Jan Leike announced their depar...',\n",
       "  'content': 'OpenAI co-founder Ilya Sutskever and \"superalignment\" team co-leader Jan Leike announced their departures from the ChatGPT-maker this week, and US media reported that remaining members of the group have either left or been reassigned to other parts of the San Francisco-based company.\\n\\nThe apparent dismantling of an OpenAI team focused on keeping sophisticated artificial intelligence under control comes as such technology comes under increased scrutiny from regulators and fears mount regarding its dangers.\\n\\n\"OpenAI must become a safety-first AGI (artificial general intelligence) company,\" Leike wrote Friday in a post on X, formerly Twitter.\\n\\nLeike called on all OpenAI employees to \"act with the gravitas\" warranted by what they are building.\\n\\nOpenAI chief executive Sam Altman responded to Leike\\'s post with one of his own, thanking him for his work at the company and saying he was sad to see Leike leave.\\n\\n\"He\\'s right we have a lot more to do,\" Altman said. \"We are committed to doing it.\"\\n\\nAltman promised more on the topic in the coming days.\\n\\nSutskever said on X that he was leaving after almost a decade at OpenAI, whose \"trajectory has been nothing short of miraculous.\"\\n\\n\"I\\'m confident that OpenAI will build AGI that is both safe and beneficial,\" he added, referring to computer technology that seeks to perform as well as -- or better than -- human cognition.\\n\\nSutskever, OpenAI\\'s chief scientist, sat on the board that voted to remove fellow chief executive Altman in November last year.\\n\\nThe ousting threw the San Francisco-based startup into a tumult, with the OpenAI board hiring Altman back a few days later after staff and investors rebelled.\\n\\nOpenAI early this week released a higher-performing and even more human-like version of the artificial intelligence technology that underpins ChatGPT, making it free to all users.\\n\\n\"It feels like AI from the movies,\" Altman said in a blog post.\\n\\nAltman has previously pointed to the Scarlett Johansson character in the movie \"Her,\" where she voices an AI-based virtual assistant dating a man, as an inspiration for where he would like AI interactions to go.\\n\\nThe day will come when \"digital brains will become as good and even better than our own,\" Sutskever said during a talk at a TED AI summit in San Francisco late last year.\\n\\n\"AGI will have a dramatic impact on every area of life.\"',\n",
       "  'author': [],\n",
       "  'publishedAt': '2024-05-17T23:25:07Z',\n",
       "  'url': 'https://www.spacedaily.com/afp/240517221342.zovog9ld.html',\n",
       "  'source': 'SpaceDaily'}]"
      ]
     },
     "execution_count": 38,
     "metadata": {},
     "output_type": "execute_result"
    }
   ],
   "source": [
    "list(col.find({'title':{'$regex':'openai', '$options':'i'}}, {'embedding':0}).limit(5))"
   ]
  },
  {
   "cell_type": "code",
   "execution_count": null,
   "id": "afbaaae1-ddda-4d3a-bfa8-d0f8f9baf4f2",
   "metadata": {},
   "outputs": [],
   "source": []
  }
 ],
 "metadata": {
  "kernelspec": {
   "display_name": "Python 3 (ipykernel)",
   "language": "python",
   "name": "python3"
  },
  "language_info": {
   "codemirror_mode": {
    "name": "ipython",
    "version": 3
   },
   "file_extension": ".py",
   "mimetype": "text/x-python",
   "name": "python",
   "nbconvert_exporter": "python",
   "pygments_lexer": "ipython3",
   "version": "3.9.19"
  }
 },
 "nbformat": 4,
 "nbformat_minor": 5
}
