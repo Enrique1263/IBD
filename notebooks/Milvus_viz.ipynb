{
 "cells": [
  {
   "cell_type": "code",
   "execution_count": 2,
   "id": "2cb5b576-80b7-413c-9bb2-69641990b4fc",
   "metadata": {},
   "outputs": [],
   "source": [
    "\n",
    "import pymilvus"
   ]
  },
  {
   "cell_type": "code",
   "execution_count": 4,
   "id": "6e178508",
   "metadata": {},
   "outputs": [],
   "source": [
    "from pymilvus import connections\n",
    "\n",
    "conn = connections.connect(host=\"127.0.0.1\", port=19530)\n",
    "\n"
   ]
  },
  {
   "cell_type": "code",
   "execution_count": 5,
   "id": "74d50a01",
   "metadata": {},
   "outputs": [
    {
     "data": {
      "text/plain": [
       "['articles']"
      ]
     },
     "execution_count": 5,
     "metadata": {},
     "output_type": "execute_result"
    }
   ],
   "source": [
    "from pymilvus import utility\n",
    "utility.list_collections()"
   ]
  },
  {
   "cell_type": "code",
   "execution_count": 6,
   "id": "530fa461",
   "metadata": {},
   "outputs": [],
   "source": [
    "from pymilvus import Collection\n",
    "collection = Collection('articles')"
   ]
  },
  {
   "cell_type": "code",
   "execution_count": 7,
   "id": "38dd08a8",
   "metadata": {},
   "outputs": [
    {
     "data": {
      "text/plain": [
       "{\n",
       "  auto_id: False\n",
       "  description: News Articles Collection\n",
       "  fields: [{\n",
       "    name: url\n",
       "    description: \n",
       "    type: 21\n",
       "    params: {'max_length': 2048}\n",
       "    is_primary: True\n",
       "    auto_id: False\n",
       "  }, {\n",
       "    name: title\n",
       "    description: \n",
       "    type: 21\n",
       "    params: {'max_length': 1024}\n",
       "  }, {\n",
       "    name: description\n",
       "    description: \n",
       "    type: 21\n",
       "    params: {'max_length': 4096}\n",
       "  }, {\n",
       "    name: source\n",
       "    description: \n",
       "    type: 21\n",
       "    params: {'max_length': 1024}\n",
       "  }, {\n",
       "    name: embedding\n",
       "    description: \n",
       "    type: 101\n",
       "    params: {'dim': 384}\n",
       "  }]\n",
       "}"
      ]
     },
     "execution_count": 7,
     "metadata": {},
     "output_type": "execute_result"
    }
   ],
   "source": [
    "collection.schema"
   ]
  },
  {
   "cell_type": "code",
   "execution_count": 2,
   "id": "484d318d",
   "metadata": {},
   "outputs": [
    {
     "name": "stderr",
     "output_type": "stream",
     "text": [
      "/Users/vramos/Library/Python/3.9/lib/python/site-packages/urllib3/__init__.py:35: NotOpenSSLWarning: urllib3 v2 only supports OpenSSL 1.1.1+, currently the 'ssl' module is compiled with 'LibreSSL 2.8.3'. See: https://github.com/urllib3/urllib3/issues/3020\n",
      "  warnings.warn(\n",
      "/Users/vramos/Library/Python/3.9/lib/python/site-packages/tqdm/auto.py:21: TqdmWarning: IProgress not found. Please update jupyter and ipywidgets. See https://ipywidgets.readthedocs.io/en/stable/user_install.html\n",
      "  from .autonotebook import tqdm as notebook_tqdm\n",
      "/Users/vramos/Library/Python/3.9/lib/python/site-packages/huggingface_hub/file_download.py:1132: FutureWarning: `resume_download` is deprecated and will be removed in version 1.0.0. Downloads always resume when possible. If you want to force a new download, use `force_download=True`.\n",
      "  warnings.warn(\n",
      "/Users/vramos/Library/Python/3.9/lib/python/site-packages/huggingface_hub/file_download.py:1132: FutureWarning: `resume_download` is deprecated and will be removed in version 1.0.0. Downloads always resume when possible. If you want to force a new download, use `force_download=True`.\n",
      "  warnings.warn(\n"
     ]
    }
   ],
   "source": [
    "from sentence_transformers import SentenceTransformer\n",
    "model = SentenceTransformer('sentence-transformers/all-MiniLM-L6-v2')"
   ]
  },
  {
   "cell_type": "code",
   "execution_count": 12,
   "id": "56231390",
   "metadata": {},
   "outputs": [],
   "source": [
    "query = \"openai articles\"\n",
    "query_embedding = model.encode(query)\n",
    "\n",
    "import pymilvus\n",
    "\n",
    "\n",
    "client = pymilvus.MilvusClient(host=\"localhost\", port=19530, database='default')"
   ]
  },
  {
   "cell_type": "code",
   "execution_count": 25,
   "id": "9f88f7cb",
   "metadata": {},
   "outputs": [],
   "source": [
    "client.load_collection('articles')"
   ]
  },
  {
   "cell_type": "code",
   "execution_count": 20,
   "id": "f0e95ed3",
   "metadata": {},
   "outputs": [],
   "source": [
    "# load the collection for querying\n",
    "from pymilvus import utility, connections\n"
   ]
  },
  {
   "cell_type": "code",
   "execution_count": 21,
   "id": "e9c4199e",
   "metadata": {},
   "outputs": [],
   "source": [
    "connections.connect(host=\"localhost\", port=19530)"
   ]
  },
  {
   "cell_type": "code",
   "execution_count": 55,
   "id": "d28c61bb",
   "metadata": {},
   "outputs": [
    {
     "name": "stdout",
     "output_type": "stream",
     "text": [
      "{\n",
      "  \"description\": \"Mark Zuckerberg's birthday celebration sees the UFC community rallying to wish him well, and the tech titan has a message for Conor McGregor.\",\n",
      "  \"source\": \"Essentially Sports\",\n",
      "  \"url\": \"https://www.essentiallysports.com/ufc-mma-news-mark-zuckerberg-has-a-special-message-for-conor-mcgregor-as-jon-jones-nina-marie-daniele-and-ufc-world-join-in-for-meta-ceos-birthday/\",\n",
      "  \"title\": \"Mark Zuckerberg Has a Special Message for Conor McGregor as Jon Jones, Nina Marie-Daniele, and UFC World Join In for META CEO\\u2019s Birthday\"\n",
      "}\n",
      "--------------------------------------------------\n",
      "{\n",
      "  \"description\": \"I'm usually wearing the Apple Watch - or any fitness tracker that I review - to track the bare minim...\",\n",
      "  \"source\": \"@businessline\",\n",
      "  \"url\": \"https://www.thehindubusinessline.com/specials/technophile/players-periods-and-performance/article68178473.ece\",\n",
      "  \"title\": \"Players, periods and performance!\"\n",
      "}\n",
      "--------------------------------------------------\n",
      "{\n",
      "  \"description\": \"Mumbai (Maharashtra) [India], May 15 (ANI): Maharashtra Legislative Council leader Chandrashekhar Ba...\",\n",
      "  \"source\": \"Asian News International (ANI)\",\n",
      "  \"url\": \"https://www.aninews.in/news/national/politics/bjps-chandrashekhar-bawankule-extends-invitation-to-raj-thackeray-for-pm-modis-mumbai-rally20240515184315/\",\n",
      "  \"title\": \"BJP's Chandrashekhar Bawankule extends invitation to Raj Thackeray for PM Modi's Mumbai rally\"\n",
      "}\n",
      "--------------------------------------------------\n",
      "{\n",
      "  \"description\": \"Nepali cricket star Sandeep Lamichhane had his eight-year jail sentence for rape quashed on appeal o...\",\n",
      "  \"source\": \"The Daily Star\",\n",
      "  \"url\": \"https://www.thedailystar.net/sports/cricket/news/former-nepal-captain-lamichhane-acquitted-rape-appeal-court-3610741\",\n",
      "  \"title\": \"Former Nepal captain Lamichhane acquitted of rape on appeal: court\"\n",
      "}\n",
      "--------------------------------------------------\n",
      "{\n",
      "  \"description\": \"OpenAI co-founder and chief scientist Ilya Sutskever will be replaced by Jakub Pachocki while reseracher Jan Leike has also resigned.\",\n",
      "  \"source\": \"Siliconrepublic.com\",\n",
      "  \"url\": \"https://www.siliconrepublic.com/business/openai-ilya-sutskever-jan-leike-resignation-chief-scientist-ai\",\n",
      "  \"title\": \"OpenAI veterans Ilya Sutskever and Jan Leike resign\"\n",
      "}\n",
      "--------------------------------------------------\n"
     ]
    }
   ],
   "source": [
    "query = \"Jujutsu Kaisen\"\n",
    "query_embedding = model.encode(query)\n",
    "\n",
    "import pymilvus\n",
    "import json\n",
    "\n",
    "\n",
    "\n",
    "limit = 5\n",
    "# load the collection\n",
    "\n",
    "res = client.search(\n",
    "    collection_name=\"articles\", # Replace with the actual name of your collection\n",
    "    # Replace with your query vector\n",
    "    data=[query_embedding.tolist()],\n",
    "    limit=limit, # Max. number of search results to return\n",
    "    search_params={\"metric_type\": \"COSINE\", \"params\": {}}, # Search parameters\n",
    "    output_fields=[\"url\",\"title\", \"description\", \"source\"], # Fields to return in the search results\n",
    ")\n",
    "\n",
    "def format_result(result):\n",
    "    final = result['entity']\n",
    "    return final\n",
    "\n",
    "for result in res[0]:\n",
    "    print(format_result(result))\n",
    "    print('-'*50)\n",
    "\n"
   ]
  },
  {
   "cell_type": "code",
   "execution_count": null,
   "id": "6b2cf988",
   "metadata": {},
   "outputs": [],
   "source": []
  }
 ],
 "metadata": {
  "kernelspec": {
   "display_name": "Python 3",
   "language": "python",
   "name": "python3"
  },
  "language_info": {
   "codemirror_mode": {
    "name": "ipython",
    "version": 3
   },
   "file_extension": ".py",
   "mimetype": "text/x-python",
   "name": "python",
   "nbconvert_exporter": "python",
   "pygments_lexer": "ipython3",
   "version": "3.9.6"
  }
 },
 "nbformat": 4,
 "nbformat_minor": 5
}
