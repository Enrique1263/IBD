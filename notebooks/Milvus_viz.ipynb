{
 "cells": [
  {
   "cell_type": "code",
   "execution_count": 16,
   "id": "2cb5b576-80b7-413c-9bb2-69641990b4fc",
   "metadata": {},
   "outputs": [],
   "source": [
    "\n",
    "import pymilvus"
   ]
  },
  {
   "cell_type": "code",
   "execution_count": 17,
   "id": "6e178508",
   "metadata": {},
   "outputs": [],
   "source": [
    "from pymilvus import connections\n",
    "\n",
    "conn = connections.connect(host=\"milvus-standalone\", port=19530)\n",
    "\n"
   ]
  },
  {
   "cell_type": "code",
   "execution_count": 18,
   "id": "74d50a01",
   "metadata": {},
   "outputs": [
    {
     "data": {
      "text/plain": [
       "['articles']"
      ]
     },
     "execution_count": 18,
     "metadata": {},
     "output_type": "execute_result"
    }
   ],
   "source": [
    "from pymilvus import utility\n",
    "utility.list_collections()"
   ]
  },
  {
   "cell_type": "code",
   "execution_count": 19,
   "id": "530fa461",
   "metadata": {},
   "outputs": [],
   "source": [
    "from pymilvus import Collection\n",
    "collection = Collection('articles')\n",
    "collection.load()"
   ]
  },
  {
   "cell_type": "code",
   "execution_count": 20,
   "id": "38dd08a8",
   "metadata": {},
   "outputs": [
    {
     "data": {
      "text/plain": [
       "{'auto_id': False, 'description': 'News Articles Collection', 'fields': [{'name': 'url', 'description': '', 'type': <DataType.VARCHAR: 21>, 'params': {'max_length': 2048}, 'is_primary': True, 'auto_id': False}, {'name': 'title', 'description': '', 'type': <DataType.VARCHAR: 21>, 'params': {'max_length': 1024}}, {'name': 'description', 'description': '', 'type': <DataType.VARCHAR: 21>, 'params': {'max_length': 4096}}, {'name': 'source', 'description': '', 'type': <DataType.VARCHAR: 21>, 'params': {'max_length': 1024}}, {'name': 'embedding', 'description': '', 'type': <DataType.FLOAT_VECTOR: 101>, 'params': {'dim': 384}}], 'enable_dynamic_field': False}"
      ]
     },
     "execution_count": 20,
     "metadata": {},
     "output_type": "execute_result"
    }
   ],
   "source": [
    "collection.schema"
   ]
  },
  {
   "cell_type": "code",
   "execution_count": 21,
   "id": "484d318d",
   "metadata": {},
   "outputs": [
    {
     "name": "stderr",
     "output_type": "stream",
     "text": [
      "/usr/local/lib/python3.9/site-packages/huggingface_hub/file_download.py:1132: FutureWarning: `resume_download` is deprecated and will be removed in version 1.0.0. Downloads always resume when possible. If you want to force a new download, use `force_download=True`.\n",
      "  warnings.warn(\n"
     ]
    }
   ],
   "source": [
    "from sentence_transformers import SentenceTransformer\n",
    "model = SentenceTransformer('sentence-transformers/all-MiniLM-L6-v2')"
   ]
  },
  {
   "cell_type": "code",
   "execution_count": 29,
   "id": "d28c61bb",
   "metadata": {},
   "outputs": [
    {
     "name": "stdout",
     "output_type": "stream",
     "text": [
      "id: https://www.techradar.com/computing/artificial-intelligence/openais-chatgpt-might-soon-be-thanking-you-for-gold-and-asking-if-the-narwhal-bacons-at-midnight-like-a-cringey-redditor-after-the-two-companies-reach-a-deal, distance: 0.669874370098114, entity: {'title': \"OpenAI's ChatGPT might soon be thanking you for gold and asking if the narwhal bacons at midnight like a cringey Redditor after the two companies reach a deal\", 'description': 'Your Reddit posts, OpenAI’s AI products - a match made in tech heaven?', 'source': 'TechRadar', 'url': 'https://www.techradar.com/computing/artificial-intelligence/openais-chatgpt-might-soon-be-thanking-you-for-gold-and-asking-if-the-narwhal-bacons-at-midnight-like-a-cringey-redditor-after-the-two-companies-reach-a-deal'}\n",
      "\n",
      "\n",
      "\n",
      "id: https://edition.cnn.com/2024/05/13/tech/openai-altman-new-ai-model-gpt-4o/index.html, distance: 0.6625847816467285, entity: {'title': 'OpenAI unveils newest AI model, GPT-4o', 'description': 'OpenAI on Monday announced its latest artificial intelligence large language model that it says will be easier and more intuitive to use.', 'source': 'Cable News Network', 'url': 'https://edition.cnn.com/2024/05/13/tech/openai-altman-new-ai-model-gpt-4o/index.html'}\n",
      "\n",
      "\n",
      "\n",
      "id: https://analyticsindiamag.com/after-stack-overflow-openai-partners-with-reddit/, distance: 0.6577651500701904, entity: {'title': 'After Stack Overflow, OpenAI Partners with Reddit', 'description': 'Today, OpenAI announced its partnership with Reddit to integrate rich community content into ChatGPT and other products.', 'source': 'Analytics India Magazine', 'url': 'https://analyticsindiamag.com/after-stack-overflow-openai-partners-with-reddit/'}\n",
      "\n",
      "\n",
      "\n",
      "id: https://venturebeat.com/ai/openai-partners-with-reddit-to-integrate-unique-user-generated-content-into-chatgpt/, distance: 0.655992865562439, entity: {'title': 'OpenAI partners with Reddit to integrate unique user-generated content into ChatGPT', 'description': 'OpenAI and Reddit announce a groundbreaking partnership to revolutionize online communities and drive AI innovation by integrating cutting-edge AI-powered features and unique user-generated content.', 'source': 'VentureBeat', 'url': 'https://venturebeat.com/ai/openai-partners-with-reddit-to-integrate-unique-user-generated-content-into-chatgpt/'}\n",
      "\n",
      "\n",
      "\n",
      "id: https://venturebeat.com/ai/openais-new-gpt-4o-can-be-sarcastic-sing-happy-birthday-and-teach-math/, distance: 0.6494882702827454, entity: {'title': \"OpenAI's new GPT-4o can be sarcastic, sing happy birthday and teach math\", 'description': 'The new GPT-4o from OpenAI interacts with the world in male and female voices in real time based on audio, visual and text inputs.', 'source': 'VentureBeat', 'url': 'https://venturebeat.com/ai/openais-new-gpt-4o-can-be-sarcastic-sing-happy-birthday-and-teach-math/'}\n",
      "\n",
      "\n",
      "\n"
     ]
    }
   ],
   "source": [
    "query = \"Openai\"\n",
    "query_embedding = model.encode(query)\n",
    "\n",
    "import pymilvus\n",
    "import json\n",
    "\n",
    "\n",
    "\n",
    "limit = 5\n",
    "# load the collection\n",
    "\n",
    "res = collection.search(\n",
    "    anns_field=\"embedding\",\n",
    "    param={\"metric_type\": \"COSINE\", \"params\": {}},\n",
    "    data=[query_embedding.tolist()],\n",
    "    limit=limit, # Max. number of search results to return\n",
    "    output_fields=[\"url\",\"title\", \"description\", \"source\"], # Fields to return in the search results\n",
    ")\n",
    "\n",
    "\n",
    "results = res[0]\n",
    "\n",
    "# Print the search results in teh streamlit app\n",
    "for r in results:\n",
    "    data = r\n",
    "    print(data)\n",
    "    print('\\n\\n')\n",
    "    title = data.get('title')\n",
    "    description = data.get('description')\n",
    "    source = data.get('source')\n",
    "    url = data.get('url')\n",
    "\n"
   ]
  },
  {
   "cell_type": "code",
   "execution_count": null,
   "id": "6b2cf988",
   "metadata": {},
   "outputs": [],
   "source": []
  }
 ],
 "metadata": {
  "kernelspec": {
   "display_name": "Python 3 (ipykernel)",
   "language": "python",
   "name": "python3"
  },
  "language_info": {
   "codemirror_mode": {
    "name": "ipython",
    "version": 3
   },
   "file_extension": ".py",
   "mimetype": "text/x-python",
   "name": "python",
   "nbconvert_exporter": "python",
   "pygments_lexer": "ipython3",
   "version": "3.9.19"
  }
 },
 "nbformat": 4,
 "nbformat_minor": 5
}
