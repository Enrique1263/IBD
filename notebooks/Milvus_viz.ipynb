{
 "cells": [
  {
   "cell_type": "code",
   "execution_count": 11,
   "id": "2cb5b576-80b7-413c-9bb2-69641990b4fc",
   "metadata": {},
   "outputs": [],
   "source": [
    "\n",
    "import pymilvus"
   ]
  },
  {
   "cell_type": "code",
   "execution_count": 32,
   "id": "6e178508",
   "metadata": {},
   "outputs": [],
   "source": [
    "from pymilvus import connections, db\n",
    "\n",
    "conn = connections.connect(host=\"127.0.0.1\", port=19530)\n",
    "\n"
   ]
  },
  {
   "cell_type": "code",
   "execution_count": 31,
   "id": "3633ca8b",
   "metadata": {},
   "outputs": [],
   "source": [
    "db_name = \"newsDb\"\n",
    "collection_name = \"articles\""
   ]
  },
  {
   "cell_type": "code",
   "execution_count": 39,
   "id": "0fa1305b",
   "metadata": {},
   "outputs": [],
   "source": [
    "db.drop_database(\"newsDb\")"
   ]
  },
  {
   "cell_type": "code",
   "execution_count": 34,
   "id": "9a9a3b59",
   "metadata": {},
   "outputs": [
    {
     "name": "stdout",
     "output_type": "stream",
     "text": [
      "Database newsDb does not exist\n"
     ]
    },
    {
     "data": {
      "text/plain": [
       "False"
      ]
     },
     "execution_count": 34,
     "metadata": {},
     "output_type": "execute_result"
    }
   ],
   "source": [
    "def check_db_exists():\n",
    "    db_names = db.list_database()\n",
    "    if db_name in db_names:\n",
    "        print(f\"Database {db_name} exists\")\n",
    "        return True\n",
    "    else:\n",
    "        print(f\"Database {db_name} does not exist\")\n",
    "        return False\n",
    "\n",
    "check_db_exists()"
   ]
  },
  {
   "cell_type": "code",
   "execution_count": 21,
   "id": "7372764e",
   "metadata": {},
   "outputs": [],
   "source": [
    "def check_and_create_db():\n",
    "    if not check_db_exists():\n",
    "        db.create_database(db_name)\n",
    "        print(f\"Database {db_name} created\")\n",
    "    else:\n",
    "        print(f\"Database {db_name} already exists\")"
   ]
  },
  {
   "cell_type": "code",
   "execution_count": 22,
   "id": "a6152d36",
   "metadata": {},
   "outputs": [
    {
     "name": "stdout",
     "output_type": "stream",
     "text": [
      "Database newsDb does not exist\n",
      "Database newsDb created\n"
     ]
    }
   ],
   "source": [
    "check_and_create_db()"
   ]
  },
  {
   "cell_type": "code",
   "execution_count": 26,
   "id": "9c68e283",
   "metadata": {},
   "outputs": [],
   "source": [
    "db.using_database(db_name)"
   ]
  },
  {
   "cell_type": "code",
   "execution_count": 27,
   "id": "74d50a01",
   "metadata": {},
   "outputs": [
    {
     "data": {
      "text/plain": [
       "[]"
      ]
     },
     "execution_count": 27,
     "metadata": {},
     "output_type": "execute_result"
    }
   ],
   "source": [
    "from pymilvus import utility\n",
    "utility.list_collections()"
   ]
  },
  {
   "cell_type": "code",
   "execution_count": 29,
   "id": "302cd86d",
   "metadata": {},
   "outputs": [],
   "source": [
    "'''\n",
    "{\n",
    "            url: 'url', (id)\n",
    "            'title': 'title',\n",
    "            'description': 'description',\n",
    "            source: 'source',\n",
    "            'embedding': []\n",
    "        }\n",
    "'''\n",
    "\n",
    "def check_collection_exists():\n",
    "    collection_names = utility.list_collections()\n",
    "    if collection_name in collection_names:\n",
    "        print(f\"Collection {collection_name} exists\")\n",
    "        return True\n",
    "    else:\n",
    "        print(f\"Collection {collection_name} does not exist\")\n",
    "        return False\n",
    "    \n"
   ]
  },
  {
   "cell_type": "code",
   "execution_count": 45,
   "id": "462574f7",
   "metadata": {},
   "outputs": [],
   "source": [
    "from pymilvus import CollectionSchema, FieldSchema, DataType, Collection\n",
    "\n",
    "def check_and_create_collection():\n",
    "    if not check_collection_exists():\n",
    "        schema = CollectionSchema(fields=[\n",
    "            FieldSchema(name=\"url\", dtype=DataType.VARCHAR, is_primary=True),\n",
    "            FieldSchema(name=\"title\", dtype=DataType.STRING),\n",
    "            FieldSchema(name=\"description\", dtype=DataType.STRING),\n",
    "            FieldSchema(name=\"source\", dtype=DataType.STRING),\n",
    "            FieldSchema(name=\"embedding\", dtype=DataType.FLOAT_VECTOR, dim=384)\n",
    "        ], description=\"News articles\")\n",
    "        \n",
    "        collection = Collection(name=collection_name, schema=schema, using=db_name)\n",
    "        print(f\"Collection {collection_name} created\")\n",
    "    else:\n",
    "        print(f\"Collection {collection_name} already exists\")"
   ]
  },
  {
   "cell_type": "code",
   "execution_count": 46,
   "id": "5e4fffb4",
   "metadata": {},
   "outputs": [
    {
     "data": {
      "text/plain": [
       "['default', 'newsDb']"
      ]
     },
     "execution_count": 46,
     "metadata": {},
     "output_type": "execute_result"
    }
   ],
   "source": [
    "db.list_database()"
   ]
  },
  {
   "cell_type": "code",
   "execution_count": 47,
   "id": "9ce3fbce",
   "metadata": {},
   "outputs": [],
   "source": [
    "db_name = \"newsDb\"\n",
    "collection_name = \"articles\""
   ]
  },
  {
   "cell_type": "code",
   "execution_count": 49,
   "id": "4b9e5fe0",
   "metadata": {},
   "outputs": [
    {
     "name": "stdout",
     "output_type": "stream",
     "text": [
      "Database newsDb exists\n",
      "Database newsDb already exists\n",
      "Collection articles does not exist\n",
      "Unexpected exception formatting exception. Falling back to standard exception\n"
     ]
    },
    {
     "name": "stderr",
     "output_type": "stream",
     "text": [
      "Traceback (most recent call last):\n",
      "  File \"/Users/vramos/Library/Python/3.9/lib/python/site-packages/IPython/core/interactiveshell.py\", line 3550, in run_code\n",
      "    exec(code_obj, self.user_global_ns, self.user_ns)\n",
      "  File \"/var/folders/80/6r8bxtmd43bgpqvzbwvlm7nm0000gn/T/ipykernel_10739/3672441692.py\", line 10, in <module>\n",
      "    starter_function()\n",
      "  File \"/var/folders/80/6r8bxtmd43bgpqvzbwvlm7nm0000gn/T/ipykernel_10739/3672441692.py\", line 8, in starter_function\n",
      "    check_and_create_collection()\n",
      "  File \"/var/folders/80/6r8bxtmd43bgpqvzbwvlm7nm0000gn/T/ipykernel_10739/3374805074.py\", line 13, in check_and_create_collection\n",
      "    collection = Collection(name=collection_name, schema=schema, using=db_name)\n",
      "  File \"/Users/vramos/Library/Python/3.9/lib/python/site-packages/pymilvus/orm/collection.py\", line 117, in __init__\n",
      "    if isinstance(schema, CollectionSchema):\n",
      "  File \"/Users/vramos/Library/Python/3.9/lib/python/site-packages/pymilvus/orm/collection.py\", line 173, in _get_connection\n",
      "    resp = conn.describe_collection(name, **kwargs)\n",
      "  File \"/Users/vramos/Library/Python/3.9/lib/python/site-packages/pymilvus/orm/connections.py\", line 538, in _fetch_handler\n",
      "pymilvus.exceptions.ConnectionNotExistException: <ConnectionNotExistException: (code=1, message=should create connection first.)>\n",
      "\n",
      "During handling of the above exception, another exception occurred:\n",
      "\n",
      "Traceback (most recent call last):\n",
      "  File \"/Users/vramos/Library/Python/3.9/lib/python/site-packages/IPython/core/interactiveshell.py\", line 2144, in showtraceback\n",
      "    stb = self.InteractiveTB.structured_traceback(\n",
      "  File \"/Users/vramos/Library/Python/3.9/lib/python/site-packages/IPython/core/ultratb.py\", line 1435, in structured_traceback\n",
      "    return FormattedTB.structured_traceback(\n",
      "  File \"/Users/vramos/Library/Python/3.9/lib/python/site-packages/IPython/core/ultratb.py\", line 1326, in structured_traceback\n",
      "    return VerboseTB.structured_traceback(\n",
      "  File \"/Users/vramos/Library/Python/3.9/lib/python/site-packages/IPython/core/ultratb.py\", line 1173, in structured_traceback\n",
      "    formatted_exception = self.format_exception_as_a_whole(etype, evalue, etb, number_of_lines_of_context,\n",
      "  File \"/Users/vramos/Library/Python/3.9/lib/python/site-packages/IPython/core/ultratb.py\", line 1088, in format_exception_as_a_whole\n",
      "    frames.append(self.format_record(record))\n",
      "  File \"/Users/vramos/Library/Python/3.9/lib/python/site-packages/IPython/core/ultratb.py\", line 970, in format_record\n",
      "    frame_info.lines, Colors, self.has_colors, lvals\n",
      "  File \"/Users/vramos/Library/Python/3.9/lib/python/site-packages/IPython/core/ultratb.py\", line 792, in lines\n",
      "    return self._sd.lines\n",
      "  File \"/Users/vramos/Library/Python/3.9/lib/python/site-packages/stack_data/utils.py\", line 145, in cached_property_wrapper\n",
      "    value = obj.__dict__[self.func.__name__] = self.func(obj)\n",
      "  File \"/Users/vramos/Library/Python/3.9/lib/python/site-packages/stack_data/core.py\", line 734, in lines\n",
      "    pieces = self.included_pieces\n",
      "  File \"/Users/vramos/Library/Python/3.9/lib/python/site-packages/stack_data/utils.py\", line 145, in cached_property_wrapper\n",
      "    value = obj.__dict__[self.func.__name__] = self.func(obj)\n",
      "  File \"/Users/vramos/Library/Python/3.9/lib/python/site-packages/stack_data/core.py\", line 681, in included_pieces\n",
      "    pos = scope_pieces.index(self.executing_piece)\n",
      "  File \"/Users/vramos/Library/Python/3.9/lib/python/site-packages/stack_data/utils.py\", line 145, in cached_property_wrapper\n",
      "    value = obj.__dict__[self.func.__name__] = self.func(obj)\n",
      "  File \"/Users/vramos/Library/Python/3.9/lib/python/site-packages/stack_data/core.py\", line 660, in executing_piece\n",
      "    return only(\n",
      "  File \"/Users/vramos/Library/Python/3.9/lib/python/site-packages/executing/executing.py\", line 116, in only\n",
      "    raise NotOneValueFound('Expected one value, found 0')\n",
      "executing.executing.NotOneValueFound: Expected one value, found 0\n"
     ]
    }
   ],
   "source": [
    "from pymilvus import MilvusClient\n",
    "\n",
    "def starter_function():\n",
    "    \n",
    "    conn = connections.connect(host=\"127.0.0.1\", port=19530)\n",
    "    check_and_create_db()\n",
    "    conn = connections.connect(host=\"127.0.0.1\", port=19530, database=db_name)\n",
    "    check_and_create_collection()\n",
    "\n",
    "starter_function()"
   ]
  },
  {
   "cell_type": "code",
   "execution_count": null,
   "id": "484d318d",
   "metadata": {},
   "outputs": [],
   "source": []
  }
 ],
 "metadata": {
  "kernelspec": {
   "display_name": "Python 3",
   "language": "python",
   "name": "python3"
  },
  "language_info": {
   "codemirror_mode": {
    "name": "ipython",
    "version": 3
   },
   "file_extension": ".py",
   "mimetype": "text/x-python",
   "name": "python",
   "nbconvert_exporter": "python",
   "pygments_lexer": "ipython3",
   "version": "3.9.6"
  }
 },
 "nbformat": 4,
 "nbformat_minor": 5
}
